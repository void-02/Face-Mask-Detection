{
  "nbformat": 4,
  "nbformat_minor": 0,
  "metadata": {
    "colab": {
      "name": "MiniProject_Part2.ipynb",
      "provenance": []
    },
    "kernelspec": {
      "name": "python3",
      "display_name": "Python 3"
    },
    "language_info": {
      "name": "python"
    }
  },
  "cells": [
    {
      "cell_type": "code",
      "metadata": {
        "colab": {
          "base_uri": "https://localhost:8080/"
        },
        "id": "5wr4CWrOnAfe",
        "outputId": "8bbbef21-d581-4084-ea60-788faee2dcc3"
      },
      "source": [
        "import numpy as np\n",
        "from keras.preprocessing import image\n",
        "import cv2 as cv\n",
        "import matplotlib.pyplot as plt\n",
        "from pathlib import Path\n",
        "from sklearn.model_selection import GridSearchCV, train_test_split\n",
        "from skimage.io import imread\n",
        "print(\"Files imported successfully\")\n",
        "import pandas as pd\n",
        "import warnings\n",
        "warnings.filterwarnings('ignore')\n",
        "pd.set_option('display.max_columns', 30*30 + 1)"
      ],
      "execution_count": null,
      "outputs": [
        {
          "output_type": "stream",
          "text": [
            "Files imported successfully\n"
          ],
          "name": "stdout"
        }
      ]
    },
    {
      "cell_type": "code",
      "metadata": {
        "id": "To2JlAC10dmF"
      },
      "source": [
        "from keras.preprocessing import image             #used for image classification\n",
        "from keras.preprocessing.image import ImageDataGenerator  #used to expand the training dataset in order to improve the performance and ability of the model to generalize\n",
        "import matplotlib.pyplot as plt                   #library to plot graphs\n",
        "from google.colab import files                    #To be able to upload files"
      ],
      "execution_count": null,
      "outputs": []
    },
    {
      "cell_type": "code",
      "metadata": {
        "id": "Y8UZbn-V01R9"
      },
      "source": [
        "from google.colab import drive\n",
        "drive.mount('/content/drive')\n",
        "!unzip '/content/drive/MyDrive/self-built.zip'"
      ],
      "execution_count": null,
      "outputs": []
    },
    {
      "cell_type": "code",
      "metadata": {
        "id": "YSSEcrbF2g2Z"
      },
      "source": [
        ""
      ],
      "execution_count": null,
      "outputs": []
    },
    {
      "cell_type": "code",
      "metadata": {
        "id": "8rQtCjgxnEd-"
      },
      "source": [
        "def load_image_files(container_path, dimension=(64, 64)):\n",
        "    image_dir = Path(container_path)\n",
        "    folders = [directory for directory in image_dir.iterdir() if directory.is_dir()]\n",
        "    categories = ['mask', 'no-mask']\n",
        "\n",
        "    descr = \"A image classification dataset\"\n",
        "    images = []\n",
        "    flat_data = []\n",
        "    target = []\n",
        "    count = 0\n",
        "    train_img = []\n",
        "    for i, direc in enumerate(folders):\n",
        "        for file in direc.iterdir():\n",
        "            count += 1\n",
        "            img = imread(file)\n",
        "            img = cv.cvtColor(img, cv.COLOR_BGR2GRAY)\n",
        "            img_pred = cv.resize(img, (50, 50), interpolation=cv.INTER_AREA)\n",
        "            img_pred = image.img_to_array(img_pred)\n",
        "            img_pred = img_pred / 255\n",
        "            train_img.append(img_pred)\n",
        "\n",
        "    X = np.array(train_img)\n",
        "\n",
        "    return X"
      ],
      "execution_count": null,
      "outputs": []
    },
    {
      "cell_type": "code",
      "metadata": {
        "colab": {
          "base_uri": "https://localhost:8080/"
        },
        "id": "aLWOS3kjqflW",
        "outputId": "8d448cf9-32e6-4c3d-de6c-e24c6fdaba35"
      },
      "source": [
        "X = []\n",
        "X = load_image_files('/content/zz')\n",
        "y0 = np.zeros(30)\n",
        "y1 = np.ones(182)\n",
        "y = np.concatenate((y0,y1), axis=0)\n",
        "\n",
        "X_train, X_test, y_train, y_test = train_test_split(X, y, random_state=42, test_size=0.2)\n",
        "X_train = np.reshape(X_train, (X_train.shape[0], -1))\n",
        "X_test = np.reshape(X_test, (X_test.shape[0], -1))\n"
      ],
      "execution_count": null,
      "outputs": [
        {
          "output_type": "stream",
          "text": [
            "(212,) (212, 50, 50, 1)\n"
          ],
          "name": "stdout"
        }
      ]
    },
    {
      "cell_type": "code",
      "metadata": {
        "colab": {
          "base_uri": "https://localhost:8080/"
        },
        "id": "JX9_T09UxoET",
        "outputId": "9f9f4f0e-2061-4d2c-9c89-8010bdbe0fd8"
      },
      "source": [
        "X_train.shape"
      ],
      "execution_count": null,
      "outputs": [
        {
          "output_type": "execute_result",
          "data": {
            "text/plain": [
              "(169, 2500)"
            ]
          },
          "metadata": {
            "tags": []
          },
          "execution_count": 33
        }
      ]
    },
    {
      "cell_type": "code",
      "metadata": {
        "colab": {
          "base_uri": "https://localhost:8080/"
        },
        "id": "NY9j51QDsVUN",
        "outputId": "4e015025-da1d-42d4-d874-fd97af9f7d04"
      },
      "source": [
        "from sklearn.pipeline import make_pipeline\n",
        "from sklearn.preprocessing import StandardScaler\n",
        "from sklearn.svm import SVC\n",
        "clf = SVC(gamma='auto')\n",
        "clf.fit(X_train, y_train)"
      ],
      "execution_count": null,
      "outputs": [
        {
          "output_type": "execute_result",
          "data": {
            "text/plain": [
              "SVC(C=1.0, break_ties=False, cache_size=200, class_weight=None, coef0=0.0,\n",
              "    decision_function_shape='ovr', degree=3, gamma='auto', kernel='rbf',\n",
              "    max_iter=-1, probability=False, random_state=None, shrinking=True,\n",
              "    tol=0.001, verbose=False)"
            ]
          },
          "metadata": {
            "tags": []
          },
          "execution_count": 22
        }
      ]
    },
    {
      "cell_type": "code",
      "metadata": {
        "colab": {
          "base_uri": "https://localhost:8080/"
        },
        "id": "mDb9nJfRuj6Z",
        "outputId": "11f6eafb-5a64-45a0-cb2b-6401ac461526"
      },
      "source": [
        "print(clf.score(X_test,y_test))"
      ],
      "execution_count": null,
      "outputs": [
        {
          "output_type": "stream",
          "text": [
            "0.8837209302325582\n"
          ],
          "name": "stdout"
        }
      ]
    },
    {
      "cell_type": "code",
      "metadata": {
        "colab": {
          "base_uri": "https://localhost:8080/"
        },
        "id": "9PdNQuKHu1TQ",
        "outputId": "17c88249-7d94-4020-994d-9e9e9187fade"
      },
      "source": [
        "print(clf.predict(X_test[1:2,:]), y_test[1:2])"
      ],
      "execution_count": null,
      "outputs": [
        {
          "output_type": "stream",
          "text": [
            "[1.] [1.]\n"
          ],
          "name": "stdout"
        }
      ]
    },
    {
      "cell_type": "code",
      "metadata": {
        "colab": {
          "base_uri": "https://localhost:8080/",
          "height": 234
        },
        "id": "rE-1PoYaq_VC",
        "outputId": "a9c32342-9b27-43b6-ebdd-8ed6e67725c8"
      },
      "source": [
        "#here ihad uploaded 10 random no-mask and mask images named i.jpg (i is any integer)\n",
        "# upload your files as 1.jpg ,2.jpg -----n.jpg  (n files)\n",
        "\n",
        "from IPython.display import Image, display\n",
        "TGREEN =  '\\033[1;37;42m'\n",
        "TRED =    '\\033[1;37;41m'\n",
        "img_directory = '/content/zz/mask/0033.jpg'\n",
        "img = imread(img_directory)\n",
        "img = cv.cvtColor(img, cv.COLOR_BGR2GRAY)\n",
        "img_pred = cv.resize(img, (50, 50), interpolation=cv.INTER_AREA)\n",
        "img_pred = image.img_to_array(img_pred)\n",
        "img_pred = img_pred / 255\n",
        "img_pred = np.array(img_pred)\n",
        "\n",
        "img_pred = np.reshape(img_pred,(1,2500))\n",
        "# train_img.append(img_pred)\n",
        "prediction = clf.predict(img_pred)\n",
        "display(Image(img_directory,width= 150, height=150))\n",
        "print(\"\\n\")\n",
        "if(int(prediction) == 1.):\n",
        "  print(TGREEN + \"The person is wearing a mask. \\n\")\n",
        "else:\n",
        "  print(TRED + \"The person is not wearing a mask.\\n\")"
      ],
      "execution_count": null,
      "outputs": [
        {
          "output_type": "display_data",
          "data": {
            "image/jpeg": "[encoded data removed]",
            "text/plain": [
              "<IPython.core.display.Image object>"
            ]
          },
          "metadata": {
            "tags": [],
            "image/jpeg": {
              "width": 150,
              "height": 150
            }
          }
        },
        {
          "output_type": "stream",
          "text": [
            "\n",
            "\n",
            "\u001b[1;37;42mThe person is wearing a mask. \n",
            "\n"
          ],
          "name": "stdout"
        }
      ]
    },
    {
      "cell_type": "code",
      "metadata": {
        "id": "kSCCQvijr28N"
      },
      "source": [
        ""
      ],
      "execution_count": null,
      "outputs": []
    },
    {
      "cell_type": "code",
      "metadata": {
        "id": "QCQ3dqeJsmn3"
      },
      "source": [
        ""
      ],
      "execution_count": null,
      "outputs": []
    }
  ]
}